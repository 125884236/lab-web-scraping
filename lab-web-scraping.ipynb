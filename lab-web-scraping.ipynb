{
  "cells": [
    {
      "cell_type": "markdown",
      "id": "7e7a1ab8-2599-417d-9a65-25ef07f3a786",
      "metadata": {
        "id": "7e7a1ab8-2599-417d-9a65-25ef07f3a786"
      },
      "source": [
        "# Lab | Web Scraping"
      ]
    },
    {
      "cell_type": "markdown",
      "id": "ce8882fc-4815-4567-92fa-b4816358ba7d",
      "metadata": {
        "id": "ce8882fc-4815-4567-92fa-b4816358ba7d"
      },
      "source": [
        "Welcome to the IMDb Web Scraping Adventure Lab!\n",
        "\n",
        "**Objective**\n",
        "\n",
        "In this lab, we will embark on a mission to unearth valuable insights from the vast sea of data available on IMDb, one of the largest online databases of movie, TV, and celebrity information. As budding data scientists and business analysts, you have been tasked to scrape a specific subset of data from IMDb to assist film production companies in understanding the landscape of highly-rated movies in a defined time period. Your insights will potentially influence the making of the next netflix movie!\n",
        "\n",
        "**Background**\n",
        "\n",
        "In a world where data has become the new currency, businesses are leveraging big data to make informed decisions that drive success and profitability. The entertainment industry, being no exception, utilizes data analytics to comprehend market trends, audience preferences, and the performance of films based on various parameters such as director, genre, stars involved, etc. IMDb stands as a goldmine of such data, offering intricate details of almost every movie ever made.\n",
        "\n",
        "**Task**\n",
        "\n",
        "Your task is to create a Python script using `BeautifulSoup` and `pandas` to scrape IMDb movie data based on user ratings and release dates. This script should be able to filter movies with ratings above a certain threshold and within a specified date range.\n",
        "\n",
        "**Expected Outcome**\n",
        "\n",
        "- A function named `scrape_imdb` that takes four parameters: `title_type`,`user_rating`, `start_date`, and `end_date`.\n",
        "- The function should return a DataFrame with the following columns:\n",
        "  - **Movie Nr**: The number representing the movie’s position in the list.\n",
        "  - **Title**: The title of the movie.\n",
        "  - **Year**: The year the movie was released.\n",
        "  - **Rating**: The IMDb rating of the movie.\n",
        "  - **Runtime (min)**: The duration of the movie in minutes.\n",
        "  - **Genre**: The genre of the movie.\n",
        "  - **Description**: A brief description of the movie.\n",
        "  - **Director**: The director of the movie.\n",
        "  - **Stars**: The main stars of the movie.\n",
        "  - **Votes**: The number of votes the movie received.\n",
        "  - **Gross ($M)**: The gross earnings of the movie in millions of USD.\n",
        "\n",
        "You will execute this script to scrape data for movies with the Title Type `Feature Film` that have a user rating of `7.5 and above` and were released between `January 1, 1990, and December 31, 1992`.\n",
        "\n",
        "Remember to experiment with different title types, dates and ratings to ensure your code is versatile and can handle various searches effectively!\n",
        "\n",
        "**Resources**\n",
        "\n",
        "- [Beautiful Soup Documentation](https://www.crummy.com/software/BeautifulSoup/bs4/doc/)\n",
        "- [Pandas Documentation](https://pandas.pydata.org/pandas-docs/stable/index.html)\n",
        "- [IMDb Advanced Search](https://www.imdb.com/search/title/)\n"
      ]
    },
    {
      "cell_type": "markdown",
      "id": "3519921d-5890-445b-9a33-934ed8ee378c",
      "metadata": {
        "id": "3519921d-5890-445b-9a33-934ed8ee378c"
      },
      "source": [
        "**Hint**\n",
        "\n",
        "Your first mission is to familiarize yourself with the IMDb advanced search page. Head over to [IMDb advanced search](https://www.imdb.com/search/title/) and input the following parameters, keeping all other fields to their default values or blank:\n",
        "\n",
        "- **Title Type**: Feature film\n",
        "- **Release date**: From 1990 to 1992 (Note: You don't need to specify the day and month)\n",
        "- **User Rating**: 7.5 to -\n",
        "\n",
        "Upon searching, you'll land on a page showcasing a list of movies, each displaying vital details such as the title, release year, and crew information. Your task is to scrape this treasure trove of data.\n",
        "\n",
        "Carefully examine the resulting URL and construct your own URL to include all the necessary parameters for filtering the movies."
      ]
    },
    {
      "cell_type": "markdown",
      "id": "25a83a0d-a742-49f6-985e-e27887cbf922",
      "metadata": {
        "id": "25a83a0d-a742-49f6-985e-e27887cbf922"
      },
      "source": [
        "\n",
        "---\n",
        "\n",
        "**Best of luck! Immerse yourself in the world of movies and may the data be with you!**"
      ]
    },
    {
      "cell_type": "markdown",
      "id": "7b75cf0d-9afa-4eec-a9e2-befeac68b2a0",
      "metadata": {
        "id": "7b75cf0d-9afa-4eec-a9e2-befeac68b2a0"
      },
      "source": [
        "**Important note**:\n",
        "\n",
        "In the fast-changing online world, websites often get updates and make changes. When you try this lab, the IMDb website might be different from what we expect.\n",
        "\n",
        "If you run into problems because of these changes, like new rules or things that stop you from getting data, don't worry! Instead, get creative.\n",
        "\n",
        "You can choose another website that interests you and is good for scraping data. Websites like Wikipedia or The New York Times are good options. The main goal is still the same: get useful data and learn how to scrape it from a website that you find interesting. It's a chance to practice your web scraping skills and explore a source of information you like."
      ]
    },
    {
      "cell_type": "code",
      "execution_count": null,
      "id": "59dcc665",
      "metadata": {},
      "outputs": [],
      "source": [
        "url_0 = \"https://www.imdb.com/search/title/?title_type=feature&release_date=1990-01-01,1992-12-31&user_rating=7.2\"\n",
        "\n",
        "#me traigo la url\n",
        "response = requests.get(url_0)\n",
        "\n",
        "response\n",
        "\n",
        "#error 403"
      ]
    },
    {
      "cell_type": "code",
      "execution_count": 146,
      "id": "40359eee-9cd7-4884-bfa4-83344c222305",
      "metadata": {
        "id": "40359eee-9cd7-4884-bfa4-83344c222305"
      },
      "outputs": [],
      "source": [
        "import pandas as pd\n",
        "import requests\n",
        "from bs4 import BeautifulSoup"
      ]
    },
    {
      "cell_type": "code",
      "execution_count": 147,
      "id": "2a3bfdbd",
      "metadata": {},
      "outputs": [
        {
          "data": {
            "text/plain": [
              "<Response [200]>"
            ]
          },
          "execution_count": 147,
          "metadata": {},
          "output_type": "execute_result"
        }
      ],
      "source": [
        "url = \"https://es.wikinews.org/wiki/L%C3%B3pez_Obrador_sobre_el_asalto_a_la_embajada:_%22a_M%C3%A9xico_se_le_respeta%22\"\n",
        "\n",
        "#me traigo la url\n",
        "response = requests.get(url)\n",
        "\n",
        "response"
      ]
    },
    {
      "cell_type": "code",
      "execution_count": 148,
      "id": "66bcec01",
      "metadata": {},
      "outputs": [
        {
          "data": {
            "text/plain": [
              "{'date': 'Sun, 21 Apr 2024 21:59:06 GMT', 'server': 'mw1414.eqiad.wmnet', 'x-content-type-options': 'nosniff', 'content-language': 'es', 'origin-trial': 'Ati+OeQqAqepel42E1HTWhvx4Ozp2n7eRG6dc/cWB6VAHI7zhKxZslPDwl4hZkqAfsQqtInHRNMci3Wac3ntBgkAAABleyJvcmlnaW4iOiJodHRwczovL3dpa2luZXdzLm9yZzo0NDMiLCJmZWF0dXJlIjoiVG9wTGV2ZWxUcGNkIiwiZXhwaXJ5IjoxNzM1MzQzOTk5LCJpc1N1YmRvbWFpbiI6dHJ1ZX0=', 'accept-ch': '', 'vary': 'Accept-Encoding,Cookie,Authorization', 'last-modified': 'Thu, 11 Apr 2024 05:08:58 GMT', 'content-type': 'text/html; charset=UTF-8', 'content-encoding': 'gzip', 'age': '32738', 'x-cache': 'cp6012 hit, cp6010 hit/2', 'x-cache-status': 'hit-front', 'server-timing': 'cache;desc=\"hit-front\", host;desc=\"cp6010\"', 'strict-transport-security': 'max-age=106384710; includeSubDomains; preload', 'report-to': '{ \"group\": \"wm_nel\", \"max_age\": 604800, \"endpoints\": [{ \"url\": \"https://intake-logging.wikimedia.org/v1/events?stream=w3c.reportingapi.network_error&schema_uri=/w3c/reportingapi/network_error/1.0.0\" }] }', 'nel': '{ \"report_to\": \"wm_nel\", \"max_age\": 604800, \"failure_fraction\": 0.05, \"success_fraction\": 0.0}', 'set-cookie': 'WMF-Last-Access=22-Apr-2024;Path=/;HttpOnly;secure;Expires=Fri, 24 May 2024 00:00:00 GMT, WMF-Last-Access-Global=22-Apr-2024;Path=/;Domain=.wikinews.org;HttpOnly;secure;Expires=Fri, 24 May 2024 00:00:00 GMT, WMF-DP=416;Path=/;HttpOnly;secure;Expires=Mon, 22 Apr 2024 00:00:00 GMT, GeoIP=ES:MD:Boadilla_del_Monte:40.41:-3.88:v4; Path=/; secure; Domain=.wikinews.org, NetworkProbeLimit=0.001;Path=/;Secure;Max-Age=3600', 'x-client-ip': '83.61.239.237', 'cache-control': 'private, s-maxage=0, max-age=0, must-revalidate', 'accept-ranges': 'bytes', 'content-length': '15379'}"
            ]
          },
          "execution_count": 148,
          "metadata": {},
          "output_type": "execute_result"
        }
      ],
      "source": [
        "response.headers"
      ]
    },
    {
      "cell_type": "code",
      "execution_count": 149,
      "id": "6b7ee242",
      "metadata": {},
      "outputs": [
        {
          "name": "stdout",
          "output_type": "stream",
          "text": [
            "text/html; charset=UTF-8\n"
          ]
        }
      ],
      "source": [
        "print(response.headers [\"content-type\"])"
      ]
    },
    {
      "cell_type": "code",
      "execution_count": 150,
      "id": "8434fd84",
      "metadata": {},
      "outputs": [],
      "source": [
        "soup = BeautifulSoup(response.content, \"html.parser\")"
      ]
    },
    {
      "cell_type": "code",
      "execution_count": 151,
      "id": "d77eff9c",
      "metadata": {},
      "outputs": [
        {
          "data": {
            "text/plain": [
              "bs4.BeautifulSoup"
            ]
          },
          "execution_count": 151,
          "metadata": {},
          "output_type": "execute_result"
        }
      ],
      "source": [
        "type(soup)"
      ]
    },
    {
      "cell_type": "code",
      "execution_count": 152,
      "id": "63f5ba87",
      "metadata": {},
      "outputs": [
        {
          "name": "stdout",
          "output_type": "stream",
          "text": [
            "//upload.wikimedia.org/wikipedia/commons/thumb/f/fc/Flag_of_Mexico.svg/23px-Flag_of_Mexico.svg.png\n",
            "//upload.wikimedia.org/wikipedia/commons/thumb/c/c7/LocationMexico.svg/220px-LocationMexico.svg.png\n",
            "//upload.wikimedia.org/wikipedia/commons/thumb/e/e0/Wikinoticias_Mexico.svg/75px-Wikinoticias_Mexico.svg.png\n",
            "//upload.wikimedia.org/wikipedia/commons/thumb/3/37/Conferencia_de_prensa_de_Lopez_Obrador_10_de_abril_de_2024_5.jpg/220px-Conferencia_de_prensa_de_Lopez_Obrador_10_de_abril_de_2024_5.jpg\n",
            "//upload.wikimedia.org/wikipedia/commons/thumb/e/e1/OOjs_UI_icon_newspaper-ltr-progressive.svg/45px-OOjs_UI_icon_newspaper-ltr-progressive.svg.png\n",
            "//upload.wikimedia.org/wikipedia/commons/thumb/6/63/Wikipedia-logo.png/50px-Wikipedia-logo.png\n",
            "//upload.wikimedia.org/wikipedia/commons/5/5c/Email.png\n",
            "//upload.wikimedia.org/wikipedia/commons/thumb/4/44/Facebook_Logo.png/16px-Facebook_Logo.png\n",
            "//upload.wikimedia.org/wikipedia/commons/thumb/c/ce/Twitter_Logo.png/16px-Twitter_Logo.png\n",
            "//upload.wikimedia.org/wikipedia/commons/thumb/c/ce/Linkedin_circle.svg/16px-Linkedin_circle.svg.png\n",
            "//upload.wikimedia.org/wikipedia/commons/thumb/b/bd/Digg_icon.png/16px-Digg_icon.png\n",
            "//upload.wikimedia.org/wikipedia/commons/thumb/1/1a/Newsvine.svg/16px-Newsvine.svg.png\n",
            "//upload.wikimedia.org/wikipedia/commons/thumb/b/b5/Reddit_logo.png/51px-Reddit_logo.png\n",
            "//upload.wikimedia.org/wikipedia/commons/thumb/0/0e/Meneame_favicon.png/20px-Meneame_favicon.png\n",
            "//upload.wikimedia.org/wikipedia/commons/thumb/e/ec/Circle-icons-mail.svg/23px-Circle-icons-mail.svg.png\n",
            "//upload.wikimedia.org/wikipedia/commons/thumb/5/51/Facebook_f_logo_%282019%29.svg/23px-Facebook_f_logo_%282019%29.svg.png\n",
            "//upload.wikimedia.org/wikipedia/commons/thumb/c/ce/Twitter_Logo.png/23px-Twitter_Logo.png\n",
            "//upload.wikimedia.org/wikipedia/commons/thumb/c/ce/Linkedin_circle.svg/23px-Linkedin_circle.svg.png\n",
            "//upload.wikimedia.org/wikipedia/commons/thumb/b/bd/Digg_icon.png/23px-Digg_icon.png\n",
            "//upload.wikimedia.org/wikipedia/commons/thumb/1/1a/Newsvine.svg/23px-Newsvine.svg.png\n",
            "//upload.wikimedia.org/wikipedia/commons/thumb/0/0e/Meneame_favicon.png/23px-Meneame_favicon.png\n"
          ]
        }
      ],
      "source": [
        "url_imagenes = soup.find_all(\"img\", class_=\"mw-file-element\")\n",
        "\n",
        "for url_imagen in url_imagenes:\n",
        "    url = url_imagen[\"src\"]\n",
        "    print(url)"
      ]
    },
    {
      "cell_type": "code",
      "execution_count": 155,
      "id": "b5a59ef3",
      "metadata": {},
      "outputs": [
        {
          "name": "stdout",
          "output_type": "stream",
          "text": [
            "/wiki/Andr%C3%A9s_Manuel_L%C3%B3pez_Obrador\n",
            "/wiki/M%C3%A9xico\n"
          ]
        }
      ],
      "source": [
        "wiki_enlaces = soup.find_all(\"a\", class_=\"mw-redirect\")\n",
        "\n",
        "for wiki_enlace in wiki_enlaces:\n",
        "    wiki_enlaces = wiki_enlace[\"href\"]\n",
        "    print(wiki_enlaces)"
      ]
    },
    {
      "cell_type": "code",
      "execution_count": 128,
      "id": "5bd70d32",
      "metadata": {},
      "outputs": [
        {
          "name": "stdout",
          "output_type": "stream",
          "text": [
            "https://es.wikipedia.org/wiki/Wikimedia_Commons\n",
            "https://es.wikipedia.org/wiki/asalto_a_la_embajada_de_M%C3%A9xico_en_Ecuador\n",
            "https://es.wikipedia.org/wiki/Convenci%C3%B3n_de_Viena_sobre_Relaciones_Diplom%C3%A1ticas\n",
            "https://es.wikipedia.org/wiki/Wikipedia\n",
            "https://es.wikipedia.org/wiki/Asalto_a_la_embajada_de_M%C3%A9xico_en_Ecuador\n",
            "https://es.wikipedia.org/wiki/CNN_en_Espa%C3%B1ol\n",
            "https://es.wikipedia.org/wiki/Presidencia_de_la_Rep%C3%BAblica_de_M%C3%A9xico\n"
          ]
        }
      ],
      "source": [
        "wikipedia_enlaces = soup.find_all(\"a\", class_=\"extiw\")\n",
        "\n",
        "for wikipedia_enlace in wikipedia_enlaces:\n",
        "    wikipedia_enlaces = wikipedia_enlace[\"href\"]\n",
        "    print(wikipedia_enlaces)"
      ]
    },
    {
      "cell_type": "code",
      "execution_count": 144,
      "id": "1a3edd69",
      "metadata": {},
      "outputs": [
        {
          "name": "stdout",
          "output_type": "stream",
          "text": [
            "https://es.wikinews.org/w/index.php?title=Comentarios:L%C3%B3pez_Obrador_sobre_el_asalto_a_la_embajada:_%22a_M%C3%A9xico_se_le_respeta%22&action=edit&editintro=Plantilla:Comentarios_intro&preload=Plantilla:Comentarios_preload\n",
            "https://es.wikinews.org/w/index.php?title=Comentarios:L%C3%B3pez_Obrador_sobre_el_asalto_a_la_embajada:_%22a_M%C3%A9xico_se_le_respeta%22&action=edit&editintro=Plantilla:Comentarios_intro&preload=Plantilla:Comentarios_preload\n",
            "https://cnnespanol.cnn.com/2024/04/09/lopez-obrador-muestra-video-asalto-embajada-en-ecuador-glas-orix/\n",
            "https://www.gob.mx/presidencia/prensa/sin-respeto-al-derecho-internacional-sera-la-ley-del-mas-fuerte-presidente-amlo?idiom=es\n"
          ]
        }
      ],
      "source": [
        "enlaces_externos = soup.find_all(\"a\", class_=\"external text\")\n",
        "fuente_contenido\n",
        "\n",
        "for enlace_externo in enlaces_externos:\n",
        "    enlaces_externos = enlace_externo[\"href\"]\n",
        "    print(enlaces_externos)\n",
        "\n"
      ]
    },
    {
      "cell_type": "code",
      "execution_count": 161,
      "id": "200bc7b2",
      "metadata": {},
      "outputs": [
        {
          "data": {
            "text/plain": [
              "'López Obrador sobre el asalto a la embajada: \"a México se le respeta\"'"
            ]
          },
          "execution_count": 161,
          "metadata": {},
          "output_type": "execute_result"
        }
      ],
      "source": [
        "titulo = soup.find_all(\"span\", class_=\"mw-page-title-main\")[0].text\n",
        "titulo\n"
      ]
    },
    {
      "cell_type": "code",
      "execution_count": 162,
      "id": "b5db1524",
      "metadata": {},
      "outputs": [
        {
          "data": {
            "text/plain": [
              "'Fuentes'"
            ]
          },
          "execution_count": 162,
          "metadata": {},
          "output_type": "execute_result"
        }
      ],
      "source": [
        "subtitulos = soup.find_all(\"span\", class_=\"mw-headline\")[0].text\n",
        "subtitulos"
      ]
    },
    {
      "cell_type": "code",
      "execution_count": 167,
      "id": "90a1461b",
      "metadata": {},
      "outputs": [
        {
          "name": "stdout",
          "output_type": "stream",
          "text": [
            "10 de abril de 2024\n",
            "10 de abril de 2024\n",
            "\n",
            "Andrés Manuel López Obrador, presidente de México, refrendó la soberanía de ese país en la conferencia matutina al ser cuestionado sobre el asalto a la embajada de México en Ecuador. \"A México se le respeta\", dijo, anunciando que este jueves 11 de abril el país presentará la denuncia formal ante la Corte Internacional de Justicia (CIJ) alegando una presunta violación a la Convención de Viena sobre Relaciones Diplomáticas.\n",
            "\n",
            "López Obrador dijo que el acto apunta a que un hecho de esta naturaleza no se vuelva a repetir. \"Se tiene que pensar bien en cómo exigir la no repetición para que en el futuro nadie se atreva a cometer una atrocidad, una violación como lo sucedido en Ecuador, porque no es nada más México, es el orden mundial, el respeto a las normas internacionales entonces no es cualquier trámite\", dijo. \n",
            "\n",
            "Asimismo ante versiones de la prensa sobre que se haría con el personal ecuatoriano en suelo mexicano y presuntas prohibiciones de vuelos entre México y Ecuador, afirmó que dichas afirmaciones son falsas. \"Este es un país hospitalario, es un país para que todos podamos convivir porque nosotros somos partidarios de la fraternidad universal, pero además México tiene una tradición de años, de décadas, siglos, de protección a perseguidos, de garantizar el derecho de asilo, eso nos distingue\". \n",
            "\n",
            "En la conferencia matutina del presidente mexicano fueron mostrados videos de como elementos de la policía de élite de Ecuador irrumpió con violencia a la embajada, maltratando a su personal. Roberto Canseco, el encargado de la sede, es amenazado con un arma de fuego por un policía ya dentro de la biblioteca de la embajada. Incluso con ello el diplomático resiste y se intenta oponer a la entrada, por lo que es sometido por un elemento policiaco.\n",
            "\n"
          ]
        }
      ],
      "source": [
        "contenido = soup.select(\"p\")\n",
        "for texto in contenido:\n",
        "    print(texto.text)\n",
        "\n"
      ]
    },
    {
      "cell_type": "markdown",
      "id": "9ab1217a-df9d-4a2b-a32c-2c5f1eecd52a",
      "metadata": {
        "id": "9ab1217a-df9d-4a2b-a32c-2c5f1eecd52a"
      },
      "source": [
        "## BONUS\n",
        "\n",
        "The search results span multiple pages, housing a total of 631 movies in our example with each page displaying 50 movies at most. To scrape data seamlessly from all pages, you'll need to dive deep into the structure of the URLs generated with each \"Next\" click.\n",
        "\n",
        "Take a close look at the following URLs:\n",
        "- First page:\n",
        "  ```\n",
        "  https://www.imdb.com/search/title/?title_type=feature&release_date=1990-01-01,1992-12-31&user_rating=7.5,\n",
        "  ```\n",
        "- Second page:\n",
        "  ```\n",
        "  https://www.imdb.com/search/title/?title_type=feature&release_date=1990-01-01,1992-12-31&user_rating=7.5,&start=51&ref_=adv_nxt\n",
        "  ```\n",
        "- Third page:\n",
        "  ```\n",
        "  https://www.imdb.com/search/title/?title_type=feature&release_date=1990-01-01,1992-12-31&user_rating=7.5,&start=101&ref_=adv_nxt\n",
        "  ```\n",
        "\n",
        "You should notice a pattern. There is a `start` parameter incrementing by 50 with each page, paired with a constant `ref_` parameter holding the value \"adv_nxt\".\n",
        "\n",
        "Modify your script so it's capable of iterating over all available pages to fetch data on all the 631 movies (631 is the total number of movies in the proposed example)."
      ]
    },
    {
      "cell_type": "code",
      "execution_count": null,
      "id": "21ac4fc0-a12b-4a00-9266-2020166f0dea",
      "metadata": {
        "id": "21ac4fc0-a12b-4a00-9266-2020166f0dea"
      },
      "outputs": [],
      "source": [
        "# Your solution goes here"
      ]
    }
  ],
  "metadata": {
    "colab": {
      "provenance": []
    },
    "kernelspec": {
      "display_name": "Python 3 (ipykernel)",
      "language": "python",
      "name": "python3"
    },
    "language_info": {
      "codemirror_mode": {
        "name": "ipython",
        "version": 3
      },
      "file_extension": ".py",
      "mimetype": "text/x-python",
      "name": "python",
      "nbconvert_exporter": "python",
      "pygments_lexer": "ipython3",
      "version": "3.12.2"
    }
  },
  "nbformat": 4,
  "nbformat_minor": 5
}
