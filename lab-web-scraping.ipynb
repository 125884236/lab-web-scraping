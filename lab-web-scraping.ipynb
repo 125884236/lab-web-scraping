{
  "cells": [
    {
      "cell_type": "markdown",
      "id": "7e7a1ab8-2599-417d-9a65-25ef07f3a786",
      "metadata": {
        "id": "7e7a1ab8-2599-417d-9a65-25ef07f3a786"
      },
      "source": [
        "# Lab | Web Scraping"
      ]
    },
    {
      "cell_type": "markdown",
      "id": "ce8882fc-4815-4567-92fa-b4816358ba7d",
      "metadata": {
        "id": "ce8882fc-4815-4567-92fa-b4816358ba7d"
      },
      "source": [
        "Welcome to the IMDb Web Scraping Adventure Lab!\n",
        "\n",
        "**Objective**\n",
        "\n",
        "In this lab, we will embark on a mission to unearth valuable insights from the vast sea of data available on IMDb, one of the largest online databases of movie, TV, and celebrity information. As budding data scientists and business analysts, you have been tasked to scrape a specific subset of data from IMDb to assist film production companies in understanding the landscape of highly-rated movies in a defined time period. Your insights will potentially influence the making of the next netflix movie!\n",
        "\n",
        "**Background**\n",
        "\n",
        "In a world where data has become the new currency, businesses are leveraging big data to make informed decisions that drive success and profitability. The entertainment industry, being no exception, utilizes data analytics to comprehend market trends, audience preferences, and the performance of films based on various parameters such as director, genre, stars involved, etc. IMDb stands as a goldmine of such data, offering intricate details of almost every movie ever made.\n",
        "\n",
        "**Task**\n",
        "\n",
        "Your task is to create a Python script using `BeautifulSoup` and `pandas` to scrape IMDb movie data based on user ratings and release dates. This script should be able to filter movies with ratings above a certain threshold and within a specified date range.\n",
        "\n",
        "**Expected Outcome**\n",
        "\n",
        "- A function named `scrape_imdb` that takes four parameters: `title_type`,`user_rating`, `start_date`, and `end_date`.\n",
        "- The function should return a DataFrame with the following columns:\n",
        "  - **Movie Nr**: The number representing the movie’s position in the list.\n",
        "  - **Title**: The title of the movie.\n",
        "  - **Year**: The year the movie was released.\n",
        "  - **Rating**: The IMDb rating of the movie.\n",
        "  - **Runtime (min)**: The duration of the movie in minutes.\n",
        "  - **Genre**: The genre of the movie.\n",
        "  - **Description**: A brief description of the movie.\n",
        "  - **Director**: The director of the movie.\n",
        "  - **Stars**: The main stars of the movie.\n",
        "  - **Votes**: The number of votes the movie received.\n",
        "  - **Gross ($M)**: The gross earnings of the movie in millions of USD.\n",
        "\n",
        "You will execute this script to scrape data for movies with the Title Type `Feature Film` that have a user rating of `7.5 and above` and were released between `January 1, 1990, and December 31, 1992`.\n",
        "\n",
        "Remember to experiment with different title types, dates and ratings to ensure your code is versatile and can handle various searches effectively!\n",
        "\n",
        "**Resources**\n",
        "\n",
        "- [Beautiful Soup Documentation](https://www.crummy.com/software/BeautifulSoup/bs4/doc/)\n",
        "- [Pandas Documentation](https://pandas.pydata.org/pandas-docs/stable/index.html)\n",
        "- [IMDb Advanced Search](https://www.imdb.com/search/title/)\n"
      ]
    },
    {
      "cell_type": "markdown",
      "id": "3519921d-5890-445b-9a33-934ed8ee378c",
      "metadata": {
        "id": "3519921d-5890-445b-9a33-934ed8ee378c"
      },
      "source": [
        "**Hint**\n",
        "\n",
        "Your first mission is to familiarize yourself with the IMDb advanced search page. Head over to [IMDb advanced search](https://www.imdb.com/search/title/) and input the following parameters, keeping all other fields to their default values or blank:\n",
        "\n",
        "- **Title Type**: Feature film\n",
        "- **Release date**: From 1990 to 1992 (Note: You don't need to specify the day and month)\n",
        "- **User Rating**: 7.5 to -\n",
        "\n",
        "Upon searching, you'll land on a page showcasing a list of movies, each displaying vital details such as the title, release year, and crew information. Your task is to scrape this treasure trove of data.\n",
        "\n",
        "Carefully examine the resulting URL and construct your own URL to include all the necessary parameters for filtering the movies."
      ]
    },
    {
      "cell_type": "markdown",
      "id": "25a83a0d-a742-49f6-985e-e27887cbf922",
      "metadata": {
        "id": "25a83a0d-a742-49f6-985e-e27887cbf922"
      },
      "source": [
        "\n",
        "---\n",
        "\n",
        "**Best of luck! Immerse yourself in the world of movies and may the data be with you!**"
      ]
    },
    {
      "cell_type": "markdown",
      "id": "7b75cf0d-9afa-4eec-a9e2-befeac68b2a0",
      "metadata": {
        "id": "7b75cf0d-9afa-4eec-a9e2-befeac68b2a0"
      },
      "source": [
        "**Important note**:\n",
        "\n",
        "In the fast-changing online world, websites often get updates and make changes. When you try this lab, the IMDb website might be different from what we expect.\n",
        "\n",
        "If you run into problems because of these changes, like new rules or things that stop you from getting data, don't worry! Instead, get creative.\n",
        "\n",
        "You can choose another website that interests you and is good for scraping data. Websites like Wikipedia or The New York Times are good options. The main goal is still the same: get useful data and learn how to scrape it from a website that you find interesting. It's a chance to practice your web scraping skills and explore a source of information you like."
      ]
    },
    {
      "cell_type": "code",
      "execution_count": 40,
      "id": "59dcc665",
      "metadata": {},
      "outputs": [
        {
          "data": {
            "text/plain": [
              "<Response [200]>"
            ]
          },
          "execution_count": 40,
          "metadata": {},
          "output_type": "execute_result"
        }
      ],
      "source": [
        "url_0 = \"https://www.imdb.com/search/title/?title_type=feature&release_date=1990-01-01,1992-12-31&user_rating=7.2\"\n",
        "\n",
        "#me traigo la url\n",
        "response = requests.get(url_0)\n",
        "\n",
        "response\n",
        "\n",
        "#error 403"
      ]
    },
    {
      "cell_type": "code",
      "execution_count": 42,
      "id": "40359eee-9cd7-4884-bfa4-83344c222305",
      "metadata": {
        "id": "40359eee-9cd7-4884-bfa4-83344c222305"
      },
      "outputs": [],
      "source": [
        "import pandas as pd\n",
        "import requests\n",
        "from bs4 import BeautifulSoup"
      ]
    },
    {
      "cell_type": "code",
      "execution_count": 43,
      "id": "2a3bfdbd",
      "metadata": {},
      "outputs": [
        {
          "data": {
            "text/plain": [
              "<Response [200]>"
            ]
          },
          "execution_count": 43,
          "metadata": {},
          "output_type": "execute_result"
        }
      ],
      "source": [
        "url = \"https://es.wikipedia.org/wiki/Guerra_Israel-Gaza_(2023-presente)\"\n",
        "\n",
        "#me traigo la url\n",
        "response = requests.get(url)\n",
        "\n",
        "response"
      ]
    },
    {
      "cell_type": "code",
      "execution_count": 44,
      "id": "66bcec01",
      "metadata": {},
      "outputs": [
        {
          "data": {
            "text/plain": [
              "{'date': 'Fri, 19 Apr 2024 05:19:21 GMT', 'vary': 'Accept-Encoding,Cookie,Authorization', 'server': 'ATS/9.1.4', 'x-content-type-options': 'nosniff', 'content-language': 'es', 'origin-trial': 'AonOP4SwCrqpb0nhZbg554z9iJimP3DxUDB8V4yu9fyyepauGKD0NXqTknWi4gnuDfMG6hNb7TDUDTsl0mDw9gIAAABmeyJvcmlnaW4iOiJodHRwczovL3dpa2lwZWRpYS5vcmc6NDQzIiwiZmVhdHVyZSI6IlRvcExldmVsVHBjZCIsImV4cGlyeSI6MTczNTM0Mzk5OSwiaXNTdWJkb21haW4iOnRydWV9', 'accept-ch': '', 'last-modified': 'Thu, 18 Apr 2024 04:36:40 GMT', 'content-type': 'text/html; charset=UTF-8', 'content-encoding': 'gzip', 'age': '26283', 'x-cache': 'cp6015 miss, cp6010 hit/32', 'x-cache-status': 'hit-front', 'server-timing': 'cache;desc=\"hit-front\", host;desc=\"cp6010\"', 'strict-transport-security': 'max-age=106384710; includeSubDomains; preload', 'report-to': '{ \"group\": \"wm_nel\", \"max_age\": 604800, \"endpoints\": [{ \"url\": \"https://intake-logging.wikimedia.org/v1/events?stream=w3c.reportingapi.network_error&schema_uri=/w3c/reportingapi/network_error/1.0.0\" }] }', 'nel': '{ \"report_to\": \"wm_nel\", \"max_age\": 604800, \"failure_fraction\": 0.05, \"success_fraction\": 0.0}', 'set-cookie': 'WMF-Last-Access=19-Apr-2024;Path=/;HttpOnly;secure;Expires=Tue, 21 May 2024 12:00:00 GMT, WMF-Last-Access-Global=19-Apr-2024;Path=/;Domain=.wikipedia.org;HttpOnly;secure;Expires=Tue, 21 May 2024 12:00:00 GMT, WMF-DP=414;Path=/;HttpOnly;secure;Expires=Sat, 20 Apr 2024 00:00:00 GMT, GeoIP=ES:MD:Boadilla_del_Monte:40.41:-3.88:v4; Path=/; secure; Domain=.wikipedia.org, NetworkProbeLimit=0.001;Path=/;Secure;Max-Age=3600', 'x-client-ip': '83.61.239.237', 'cache-control': 'private, s-maxage=0, max-age=0, must-revalidate', 'accept-ranges': 'bytes', 'content-length': '356379'}"
            ]
          },
          "execution_count": 44,
          "metadata": {},
          "output_type": "execute_result"
        }
      ],
      "source": [
        "response.headers"
      ]
    },
    {
      "cell_type": "code",
      "execution_count": 45,
      "id": "6b7ee242",
      "metadata": {},
      "outputs": [
        {
          "name": "stdout",
          "output_type": "stream",
          "text": [
            "text/html; charset=UTF-8\n"
          ]
        }
      ],
      "source": [
        "print(response.headers [\"content-type\"])"
      ]
    },
    {
      "cell_type": "code",
      "execution_count": 46,
      "id": "8434fd84",
      "metadata": {},
      "outputs": [],
      "source": [
        "soup = BeautifulSoup(response.content, \"html.parser\")"
      ]
    },
    {
      "cell_type": "code",
      "execution_count": 47,
      "id": "d77eff9c",
      "metadata": {},
      "outputs": [
        {
          "data": {
            "text/plain": [
              "bs4.BeautifulSoup"
            ]
          },
          "execution_count": 47,
          "metadata": {},
          "output_type": "execute_result"
        }
      ],
      "source": [
        "type(soup)"
      ]
    },
    {
      "cell_type": "code",
      "execution_count": 48,
      "id": "63f5ba87",
      "metadata": {},
      "outputs": [],
      "source": [
        "table = soup.find('table')"
      ]
    },
    {
      "cell_type": "code",
      "execution_count": 53,
      "id": "3f87c72a",
      "metadata": {},
      "outputs": [],
      "source": [
        "article_title = soup.find_all(\"span\", class_=\"mw-page-title-main\")"
      ]
    },
    {
      "cell_type": "code",
      "execution_count": 68,
      "id": "873e4667",
      "metadata": {},
      "outputs": [],
      "source": [
        "images_url = soup.find_all(\"img\", class_=\"mw-file-element\")"
      ]
    },
    {
      "cell_type": "code",
      "execution_count": 69,
      "id": "5687f3d4",
      "metadata": {},
      "outputs": [],
      "source": [
        "images_url = [url.get(\"src\") for url in images_url]\n"
      ]
    },
    {
      "cell_type": "code",
      "execution_count": 76,
      "id": "2c82e796",
      "metadata": {},
      "outputs": [],
      "source": [
        "article_subtitles = soup.find_all(\"span\", class_=\"mw-headline\")"
      ]
    },
    {
      "cell_type": "code",
      "execution_count": 78,
      "id": "2dc3bbde",
      "metadata": {},
      "outputs": [
        {
          "data": {
            "text/plain": [
              "[]"
            ]
          },
          "execution_count": 78,
          "metadata": {},
          "output_type": "execute_result"
        }
      ],
      "source": [
        "soup.find_all(\"p\", class_=\"\")"
      ]
    },
    {
      "cell_type": "code",
      "execution_count": null,
      "id": "e83fdce2",
      "metadata": {},
      "outputs": [],
      "source": [
        "referencias = "
      ]
    },
    {
      "cell_type": "markdown",
      "id": "9ab1217a-df9d-4a2b-a32c-2c5f1eecd52a",
      "metadata": {
        "id": "9ab1217a-df9d-4a2b-a32c-2c5f1eecd52a"
      },
      "source": [
        "## BONUS\n",
        "\n",
        "The search results span multiple pages, housing a total of 631 movies in our example with each page displaying 50 movies at most. To scrape data seamlessly from all pages, you'll need to dive deep into the structure of the URLs generated with each \"Next\" click.\n",
        "\n",
        "Take a close look at the following URLs:\n",
        "- First page:\n",
        "  ```\n",
        "  https://www.imdb.com/search/title/?title_type=feature&release_date=1990-01-01,1992-12-31&user_rating=7.5,\n",
        "  ```\n",
        "- Second page:\n",
        "  ```\n",
        "  https://www.imdb.com/search/title/?title_type=feature&release_date=1990-01-01,1992-12-31&user_rating=7.5,&start=51&ref_=adv_nxt\n",
        "  ```\n",
        "- Third page:\n",
        "  ```\n",
        "  https://www.imdb.com/search/title/?title_type=feature&release_date=1990-01-01,1992-12-31&user_rating=7.5,&start=101&ref_=adv_nxt\n",
        "  ```\n",
        "\n",
        "You should notice a pattern. There is a `start` parameter incrementing by 50 with each page, paired with a constant `ref_` parameter holding the value \"adv_nxt\".\n",
        "\n",
        "Modify your script so it's capable of iterating over all available pages to fetch data on all the 631 movies (631 is the total number of movies in the proposed example)."
      ]
    },
    {
      "cell_type": "code",
      "execution_count": null,
      "id": "e58458da",
      "metadata": {},
      "outputs": [],
      "source": []
    },
    {
      "cell_type": "code",
      "execution_count": null,
      "id": "21ac4fc0-a12b-4a00-9266-2020166f0dea",
      "metadata": {
        "id": "21ac4fc0-a12b-4a00-9266-2020166f0dea"
      },
      "outputs": [],
      "source": [
        "# Your solution goes here"
      ]
    }
  ],
  "metadata": {
    "colab": {
      "provenance": []
    },
    "kernelspec": {
      "display_name": "Python 3 (ipykernel)",
      "language": "python",
      "name": "python3"
    },
    "language_info": {
      "codemirror_mode": {
        "name": "ipython",
        "version": 3
      },
      "file_extension": ".py",
      "mimetype": "text/x-python",
      "name": "python",
      "nbconvert_exporter": "python",
      "pygments_lexer": "ipython3",
      "version": "3.12.2"
    }
  },
  "nbformat": 4,
  "nbformat_minor": 5
}
